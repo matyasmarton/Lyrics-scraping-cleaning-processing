{
 "cells": [
  {
   "cell_type": "code",
   "execution_count": 15,
   "metadata": {},
   "outputs": [],
   "source": [
    "from urllib.request import urlopen\n",
    "from bs4 import BeautifulSoup\n",
    "from time import sleep\n",
    "import csv\n",
    "import json\n",
    "import re\n",
    "import pandas as pd"
   ]
  },
  {
   "cell_type": "code",
   "execution_count": 16,
   "metadata": {},
   "outputs": [],
   "source": [
    "# file containing artists - songs mapping\n",
    "songs_json = \"Artists-Songs Mapping.json\"\n",
    "songs_dict = {}\n",
    "\n",
    "with open(songs_json) as file:\n",
    "    songs_dict = json.load(file)\n",
    "    "
   ]
  },
  {
   "cell_type": "code",
   "execution_count": 17,
   "metadata": {},
   "outputs": [
    {
     "name": "stdout",
     "output_type": "stream",
     "text": [
      "['Broadcaster', \"It's A Discription\", 'Yo Lovin', 'Live Every Day', 'Save My People', 'Track 03 (Shyne Instrumental)', 'Demons And Angel', 'Metal Gear Solid', 'Stay On', 'Change', 'Detroit State Of Mind Pt. 2', 'Bag Back', 'Contra', 'Fruit Cocktail', 'Counterfeit', 'The Wizard', 'Greatest Rapper Ever', 'Need Another Drink', 'New Era', 'Exotic', \"I'm Out\", 'Re-Up', 'Nowhere 2 Go', \"Shootin' Moves\", 'The Nana Song', 'Guitar Solo', 'White Stripes', 'Juno', 'Thank God', 'Drinks On Me', 'Generation Rx', 'S.O.S.', '8 Mile', 'The Hybrid', 'Demons And Angel', 'Metal Gear Solid', 'Tea Time', 'Stay On', 'XXX', 'Die Like A Rockstar', 'Pac Blood', 'Radio Song', 'Lie4', 'I Will', 'Bruiser Brigade', 'Detroit 187', 'Monopoly', 'Blunt After Blunt', 'Outer Space', 'Adderall Admiral', 'DNA', 'Nosebleeds', 'Party All The Time', 'EWNESW', 'Fields', 'Scrap Or Die', '30', 'Baseline(iTunes Deluxe Edition Bonus Track)', 'Witit(iTunes Deluxe Edition Bonus Track)', \"Shouldn't Of(iTunes Deluxe Edition Bonus Track)\", 'Side A (Old)', 'The Return', '25 Bucks', 'Wonderbread', 'Gremlins', 'Dope Fiend Rental', 'Torture', 'Lonely', 'Clean Up', 'Red 2 Go', 'Side B (Dope Song)', 'Dubstep', 'Dip', 'Smokin & Drinkin', 'Break It (Go)', 'Handstand', 'Way Up Here', 'Kush Coma', 'Float On', 'Downward Spiral', \"Tell Me What I Don't Know\", 'Rolling Stone', 'Really Doe', 'Lost', \"Ain't It Funny\", 'Goldust', 'White Lines', 'Pneumonia', 'Dance In The Water', 'From The Ground', 'When It Rain', 'Today', 'Get Hi', 'Hell For It', 'Change Up', 'Theme Song', 'Dirty Laundry', '3 Tearz', 'Belly Of The Beast', 'Savage Nomad', 'Best Life', 'uknowhatimsayin¿', 'Negro Spiritual', 'Shine', 'Combat', 'Brown Eyes', 'Cartier', 'Express Yourself', 'Fresh Off The Boat', 'Grown Up', 'Head For Free', 'Hottest MC', 'Jealousy', 'Kool Aid(from \"Silicon Valley\" soundtrack)', 'Molly Ringwald', 'ODB', 'Radio Head', 'Ready To Go', 'Sweeney Song']\n"
     ]
    }
   ],
   "source": [
    "print(songs_dict[artist])"
   ]
  },
  {
   "cell_type": "code",
   "execution_count": 18,
   "metadata": {},
   "outputs": [
    {
     "name": "stdout",
     "output_type": "stream",
     "text": [
      "119\n",
      "116\n",
      "['fromtheground', 'drinksonme', 'bagback', 'dopefiendrental', 'grownup', 'xxx', 'sideb', 'changeup', 'monopoly', 'danceinthewater', 'dubstep', 'torture', 'ewnesw', 'themesong', 'freshofftheboat', 'smokindrinkin', 'pneumonia', 'detroitstateofmindpt2', 'scrapordie', 'floaton']\n"
     ]
    }
   ],
   "source": [
    "# artist for which the lyrics need to be written\n",
    "artist = \"dannybrown\"\n",
    "songs = songs_dict[artist]\n",
    "processed_songs = []\n",
    "#songs_converted = songs.apply(str)\n",
    "# preprocessing the songs name for scraping\n",
    "for song in songs:\n",
    "    numbers_in_brackets_removed = re.sub(r'\\(.*\\)',\"\",song)\n",
    "    processed_song = re.sub(r'\\W+', '', numbers_in_brackets_removed).lower()\n",
    "    processed_songs.append(processed_song)\n",
    "    \n",
    "print(len(processed_songs))\n",
    "\n",
    "# Removing duplicate songs\n",
    "processed_songs = list(set(processed_songs))\n",
    "print(len(processed_songs))\n",
    "print(processed_songs[:20])"
   ]
  },
  {
   "cell_type": "code",
   "execution_count": 20,
   "metadata": {},
   "outputs": [
    {
     "name": "stdout",
     "output_type": "stream",
     "text": [
      "Lyrics successfully written to file for : \"From The Ground\"\n",
      "Lyrics not found for : drinksonme\n",
      "Lyrics successfully written to file for : \"Bag Back\"\n",
      "Lyrics successfully written to file for : \"Dope Fiend Rental\"\n",
      "Lyrics successfully written to file for : \"Grown Up\"\n",
      "Lyrics successfully written to file for : \"XXX\"\n",
      "Lyrics not found for : sideb\n",
      "Lyrics successfully written to file for : \"Change Up\"\n",
      "Lyrics successfully written to file for : \"Monopoly\"\n",
      "Lyrics successfully written to file for : \"Dance In The Water\"\n",
      "Lyrics successfully written to file for : \"Dubstep\"\n",
      "Lyrics successfully written to file for : \"Torture\"\n",
      "Lyrics successfully written to file for : \"EWNESW\"\n",
      "Lyrics successfully written to file for : \"Theme Song\"\n",
      "Lyrics successfully written to file for : \"Fresh Off The Boat\"\n",
      "Lyrics successfully written to file for : \"Smokin & Drinkin\"\n",
      "Lyrics successfully written to file for : \"Pneumonia\"\n",
      "Lyrics successfully written to file for : \"Detroit State Of Mind Pt. 2\"\n",
      "Lyrics successfully written to file for : \"Scrap Or Die\"\n",
      "Lyrics successfully written to file for : \"Float On\"\n",
      "Lyrics successfully written to file for : \"Guitar Solo\"\n",
      "Lyrics successfully written to file for : \"Clean Up\"\n",
      "Lyrics successfully written to file for : \"Rolling Stone\"\n",
      "Lyrics successfully written to file for : \"Molly Ringwald\"\n",
      "Lyrics successfully written to file for : \"Gremlins\"\n",
      "Lyrics successfully written to file for : \"Counterfeit\"\n",
      "Lyrics successfully written to file for : \"I'm Out\"\n",
      "Lyrics successfully written to file for : \"Fields\"\n",
      "Lyrics successfully written to file for : \"The Hybrid\"\n",
      "Lyrics successfully written to file for : \"Blunt After Blunt\"\n",
      "Lyrics successfully written to file for : \"The Return\"\n",
      "Lyrics not found for : jealousy\n",
      "Lyrics not found for : baseline\n",
      "Lyrics not found for : sweeneysong\n",
      "Lyrics not found for : dna\n",
      "Lyrics not found for : lost\n",
      "Lyrics not found for : today\n",
      "Lyrics not found for : bruiserbrigade\n",
      "Lyrics not found for : metalgearsolid\n",
      "Lyrics not found for : aintitfunny\n",
      "Lyrics not found for : browneyes\n",
      "Lyrics not found for : demonsandangel\n",
      "Lyrics not found for : whitelines\n",
      "Lyrics not found for : thewizard\n",
      "Lyrics not found for : 3tearz\n",
      "Lyrics not found for : savemypeople\n",
      "Lyrics not found for : 8mile\n",
      "Lyrics not found for : koolaid\n",
      "Lyrics not found for : change\n",
      "Lyrics not found for : uknowhatimsayin\n",
      "Lyrics not found for : exotic\n",
      "Lyrics not found for : hottestmc\n",
      "Lyrics not found for : generationrx\n",
      "Lyrics not found for : pacblood\n",
      "Lyrics not found for : wonderbread\n",
      "Lyrics not found for : 30\n",
      "Lyrics not found for : radiohead\n",
      "Lyrics not found for : bestlife\n",
      "Lyrics not found for : shine\n",
      "Lyrics not found for : nosebleeds\n",
      "Lyrics not found for : handstand\n",
      "Lyrics not found for : cartier\n",
      "Lyrics not found for : bellyofthebeast\n",
      "Lyrics not found for : newera\n",
      "Lyrics not found for : gethi\n",
      "Lyrics not found for : kushcoma\n",
      "Lyrics not found for : detroit187\n",
      "Lyrics not found for : outerspace\n",
      "Lyrics not found for : teatime\n",
      "Lyrics not found for : negrospiritual\n",
      "Lyrics not found for : sos\n",
      "Lyrics not found for : track03\n",
      "Lyrics not found for : dirtylaundry\n",
      "Lyrics not found for : breakit\n",
      "Lyrics not found for : shootinmoves\n",
      "Lyrics not found for : radiosong\n",
      "Lyrics not found for : tellmewhatidontknow\n",
      "Lyrics not found for : wayuphere\n",
      "Lyrics not found for : dielikearockstar\n",
      "Lyrics not found for : fruitcocktail\n",
      "Lyrics not found for : reup\n",
      "Lyrics not found for : expressyourself\n",
      "Lyrics not found for : broadcaster\n",
      "Lyrics not found for : iwill\n",
      "Lyrics not found for : savagenomad\n",
      "Lyrics not found for : hellforit\n",
      "Lyrics not found for : juno\n",
      "Lyrics not found for : dip\n",
      "Lyrics not found for : red2go\n",
      "Lyrics not found for : needanotherdrink\n",
      "Lyrics not found for : stayon\n",
      "Lyrics not found for : liveeveryday\n",
      "Lyrics not found for : reallydoe\n",
      "Lyrics not found for : witit\n",
      "Lyrics not found for : contra\n",
      "Lyrics not found for : lie4\n",
      "Lyrics not found for : whenitrain\n",
      "Lyrics not found for : itsadiscription\n",
      "Lyrics not found for : yolovin\n",
      "Lyrics not found for : shouldntof\n",
      "Lyrics not found for : whitestripes\n",
      "Lyrics not found for : sidea\n",
      "Lyrics not found for : partyallthetime\n",
      "Lyrics not found for : combat\n",
      "Lyrics not found for : readytogo\n",
      "Lyrics not found for : thenanasong\n",
      "Lyrics not found for : thankgod\n",
      "Lyrics not found for : adderalladmiral\n",
      "Lyrics not found for : lonely\n",
      "Lyrics not found for : greatestrapperever\n",
      "Lyrics not found for : goldust\n",
      "Lyrics not found for : odb\n",
      "Lyrics not found for : 25bucks\n",
      "Lyrics not found for : headforfree\n",
      "Lyrics not found for : nowhere2go\n",
      "Lyrics not found for : downwardspiral\n"
     ]
    }
   ],
   "source": [
    "# url to scrape the lyrics from\n",
    "base_url = \"https://www.azlyrics.com/lyrics/{}/{}.html\"\n",
    "\n",
    "# file in which the lyrics would be saved\n",
    "lyrics_file = \"lyrics_scraped.txt\"\n",
    "\n",
    "lyrics_not_found_for = []\n",
    "\n",
    "# delay after each execution of call for not exceeding the requests count and also not to overburden the server\n",
    "delay = 10\n",
    "\n",
    "with open(lyrics_file, \"w\") as file:\n",
    "    \n",
    "    for song in processed_songs:\n",
    "        final_url = base_url.format(artist,song)\n",
    "\n",
    "        try:\n",
    "            html_page = urlopen(final_url)\n",
    "            soup = BeautifulSoup(html_page, 'html.parser')\n",
    "\n",
    "            html_pointer = soup.find('div', attrs={'class':'ringtone'})\n",
    "            song_name = html_pointer.find_next('b').contents[0].strip()\n",
    "            lyrics = html_pointer.find_next('div').text.strip()\n",
    "\n",
    "            file.write(\"###\"+song_name+\"###\")\n",
    "            file.write(\"\\n\\n\")\n",
    "            file.write(lyrics)\n",
    "            file.write(\"\\n\\n\")\n",
    "            \n",
    "            print(\"Lyrics successfully written to file for : \" + song_name)\n",
    "            \n",
    "        except:\n",
    "            print(\"Lyrics not found for : \" + song)\n",
    "            lyrics_not_found_for.append(song)\n",
    "            \n",
    "        finally:\n",
    "            sleep(delay)\n",
    "            "
   ]
  },
  {
   "cell_type": "code",
   "execution_count": null,
   "metadata": {},
   "outputs": [],
   "source": []
  },
  {
   "cell_type": "code",
   "execution_count": 21,
   "metadata": {},
   "outputs": [
    {
     "name": "stdout",
     "output_type": "stream",
     "text": [
      "Total count :  119 songs\n",
      "Lyrics successfully scraped for :  32 songs\n",
      "Lyrics not found for : 87 songs\n",
      "\n",
      "\n",
      "Here's the list :\n",
      "\n",
      "['drinksonme', 'sideb', 'jealousy', 'baseline', 'sweeneysong', 'dna', 'lost', 'today', 'bruiserbrigade', 'metalgearsolid', 'aintitfunny', 'browneyes', 'demonsandangel', 'whitelines', 'thewizard', '3tearz', 'savemypeople', '8mile', 'koolaid', 'change', 'uknowhatimsayin', 'exotic', 'hottestmc', 'generationrx', 'pacblood', 'wonderbread', '30', 'radiohead', 'bestlife', 'shine', 'nosebleeds', 'handstand', 'cartier', 'bellyofthebeast', 'newera', 'gethi', 'kushcoma', 'detroit187', 'outerspace', 'teatime', 'negrospiritual', 'sos', 'track03', 'dirtylaundry', 'breakit', 'shootinmoves', 'radiosong', 'tellmewhatidontknow', 'wayuphere', 'dielikearockstar', 'fruitcocktail', 'reup', 'expressyourself', 'broadcaster', 'iwill', 'savagenomad', 'hellforit', 'juno', 'dip', 'red2go', 'needanotherdrink', 'stayon', 'liveeveryday', 'reallydoe', 'witit', 'contra', 'lie4', 'whenitrain', 'itsadiscription', 'yolovin', 'shouldntof', 'whitestripes', 'sidea', 'partyallthetime', 'combat', 'readytogo', 'thenanasong', 'thankgod', 'adderalladmiral', 'lonely', 'greatestrapperever', 'goldust', 'odb', '25bucks', 'headforfree', 'nowhere2go', 'downwardspiral']\n"
     ]
    }
   ],
   "source": [
    "print(\"Total count : \", len(songs),\"songs\")\n",
    "print(\"Lyrics successfully scraped for : \", len(songs)-len(lyrics_not_found_for), \"songs\")\n",
    "print(\"Lyrics not found for :\", len(lyrics_not_found_for),\"songs\\n\")\n",
    "print(\"\\nHere's the list :\\n\")\n",
    "print(lyrics_not_found_for)"
   ]
  },
  {
   "cell_type": "code",
   "execution_count": null,
   "metadata": {},
   "outputs": [],
   "source": []
  }
 ],
 "metadata": {
  "kernelspec": {
   "display_name": "Python 3",
   "language": "python",
   "name": "python3"
  },
  "language_info": {
   "codemirror_mode": {
    "name": "ipython",
    "version": 3
   },
   "file_extension": ".py",
   "mimetype": "text/x-python",
   "name": "python",
   "nbconvert_exporter": "python",
   "pygments_lexer": "ipython3",
   "version": "3.7.6"
  }
 },
 "nbformat": 4,
 "nbformat_minor": 2
}
