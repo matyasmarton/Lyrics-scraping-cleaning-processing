{
 "cells": [
  {
   "cell_type": "code",
   "execution_count": 1,
   "metadata": {},
   "outputs": [],
   "source": [
    "import io\n",
    "import numpy as np\n",
    "import pandas as pd\n",
    "import matplotlib.pyplot as plt\n",
    "import seaborn as sns\n",
    "sns.set(context='talk', style='ticks')\n",
    "%matplotlib inline"
   ]
  },
  {
   "cell_type": "markdown",
   "metadata": {},
   "source": [
    "# Import the JSON file and set variables"
   ]
  },
  {
   "cell_type": "code",
   "execution_count": 2,
   "metadata": {},
   "outputs": [
    {
     "data": {
      "text/plain": [
       "\"Need Another Drink\"             Hybrid\\n\\n[Hook:]\\nWhen It's Hot\\nYou need ano...\n",
       "\"Detroit State Of Mind Pt. 2\"    [Verse 1]\\nRoaches crawlin' up the wall, piss-...\n",
       "\"Pac Blood\"                      [Verse 1]\\nThe Shakespeare of 16's, dipping my...\n",
       "\"Kush Coma\"                      Close my eyes, feel like I'm going down\\nIn an...\n",
       "\"Best Life\"                      La la la la la, la la la\\nLa la la la la, la l...\n",
       "                                                       ...                        \n",
       "\"Die Like A Rockstar\"            [Verse 1:]\\nBrown bless the mic like gesundhei...\n",
       "\"Bag Back\"                       I lived my whole life for a green piece of pap...\n",
       "\"Change Up\"                      They thought I was gone, back from the grave\\n...\n",
       "\"Dope Fiend Rental\"              Trail of blood on that baggie\\nI done scraped ...\n",
       "\"Re-Up\"                          Used to get domed up by crackheads,\\nAnd still...\n",
       "Length: 111, dtype: object"
      ]
     },
     "execution_count": 2,
     "metadata": {},
     "output_type": "execute_result"
    }
   ],
   "source": [
    "df = pd.read_json ('Lyrics.json', typ='series')\n",
    "\n",
    "df"
   ]
  },
  {
   "cell_type": "code",
   "execution_count": 3,
   "metadata": {},
   "outputs": [
    {
     "data": {
      "text/html": [
       "<div>\n",
       "<style scoped>\n",
       "    .dataframe tbody tr th:only-of-type {\n",
       "        vertical-align: middle;\n",
       "    }\n",
       "\n",
       "    .dataframe tbody tr th {\n",
       "        vertical-align: top;\n",
       "    }\n",
       "\n",
       "    .dataframe thead th {\n",
       "        text-align: right;\n",
       "    }\n",
       "</style>\n",
       "<table border=\"1\" class=\"dataframe\">\n",
       "  <thead>\n",
       "    <tr style=\"text-align: right;\">\n",
       "      <th></th>\n",
       "      <th>Lyrics</th>\n",
       "    </tr>\n",
       "  </thead>\n",
       "  <tbody>\n",
       "    <tr>\n",
       "      <th>\"Need Another Drink\"</th>\n",
       "      <td>Hybrid\\n\\n[Hook:]\\nWhen It's Hot\\nYou need ano...</td>\n",
       "    </tr>\n",
       "    <tr>\n",
       "      <th>\"Detroit State Of Mind Pt. 2\"</th>\n",
       "      <td>[Verse 1]\\nRoaches crawlin' up the wall, piss-...</td>\n",
       "    </tr>\n",
       "    <tr>\n",
       "      <th>\"Pac Blood\"</th>\n",
       "      <td>[Verse 1]\\nThe Shakespeare of 16's, dipping my...</td>\n",
       "    </tr>\n",
       "    <tr>\n",
       "      <th>\"Kush Coma\"</th>\n",
       "      <td>Close my eyes, feel like I'm going down\\nIn an...</td>\n",
       "    </tr>\n",
       "    <tr>\n",
       "      <th>\"Best Life\"</th>\n",
       "      <td>La la la la la, la la la\\nLa la la la la, la l...</td>\n",
       "    </tr>\n",
       "    <tr>\n",
       "      <th>...</th>\n",
       "      <td>...</td>\n",
       "    </tr>\n",
       "    <tr>\n",
       "      <th>\"Die Like A Rockstar\"</th>\n",
       "      <td>[Verse 1:]\\nBrown bless the mic like gesundhei...</td>\n",
       "    </tr>\n",
       "    <tr>\n",
       "      <th>\"Bag Back\"</th>\n",
       "      <td>I lived my whole life for a green piece of pap...</td>\n",
       "    </tr>\n",
       "    <tr>\n",
       "      <th>\"Change Up\"</th>\n",
       "      <td>They thought I was gone, back from the grave\\n...</td>\n",
       "    </tr>\n",
       "    <tr>\n",
       "      <th>\"Dope Fiend Rental\"</th>\n",
       "      <td>Trail of blood on that baggie\\nI done scraped ...</td>\n",
       "    </tr>\n",
       "    <tr>\n",
       "      <th>\"Re-Up\"</th>\n",
       "      <td>Used to get domed up by crackheads,\\nAnd still...</td>\n",
       "    </tr>\n",
       "  </tbody>\n",
       "</table>\n",
       "<p>111 rows × 1 columns</p>\n",
       "</div>"
      ],
      "text/plain": [
       "                                                                          Lyrics\n",
       "\"Need Another Drink\"           Hybrid\\n\\n[Hook:]\\nWhen It's Hot\\nYou need ano...\n",
       "\"Detroit State Of Mind Pt. 2\"  [Verse 1]\\nRoaches crawlin' up the wall, piss-...\n",
       "\"Pac Blood\"                    [Verse 1]\\nThe Shakespeare of 16's, dipping my...\n",
       "\"Kush Coma\"                    Close my eyes, feel like I'm going down\\nIn an...\n",
       "\"Best Life\"                    La la la la la, la la la\\nLa la la la la, la l...\n",
       "...                                                                          ...\n",
       "\"Die Like A Rockstar\"          [Verse 1:]\\nBrown bless the mic like gesundhei...\n",
       "\"Bag Back\"                     I lived my whole life for a green piece of pap...\n",
       "\"Change Up\"                    They thought I was gone, back from the grave\\n...\n",
       "\"Dope Fiend Rental\"            Trail of blood on that baggie\\nI done scraped ...\n",
       "\"Re-Up\"                        Used to get domed up by crackheads,\\nAnd still...\n",
       "\n",
       "[111 rows x 1 columns]"
      ]
     },
     "execution_count": 3,
     "metadata": {},
     "output_type": "execute_result"
    }
   ],
   "source": [
    "df = pd.DataFrame(df, columns = ['Lyrics'])\n",
    "\n",
    "df"
   ]
  },
  {
   "cell_type": "markdown",
   "metadata": {},
   "source": [
    "# Clean the Data"
   ]
  },
  {
   "cell_type": "markdown",
   "metadata": {},
   "source": [
    "The Below regex line clear all brackets and anything that's betweem those brackets. \n",
    "After that I remove the linebreaks and export to a CSV "
   ]
  },
  {
   "cell_type": "code",
   "execution_count": 4,
   "metadata": {},
   "outputs": [
    {
     "data": {
      "text/html": [
       "<div>\n",
       "<style scoped>\n",
       "    .dataframe tbody tr th:only-of-type {\n",
       "        vertical-align: middle;\n",
       "    }\n",
       "\n",
       "    .dataframe tbody tr th {\n",
       "        vertical-align: top;\n",
       "    }\n",
       "\n",
       "    .dataframe thead th {\n",
       "        text-align: right;\n",
       "    }\n",
       "</style>\n",
       "<table border=\"1\" class=\"dataframe\">\n",
       "  <thead>\n",
       "    <tr style=\"text-align: right;\">\n",
       "      <th></th>\n",
       "      <th>Lyrics</th>\n",
       "    </tr>\n",
       "  </thead>\n",
       "  <tbody>\n",
       "    <tr>\n",
       "      <th>\"Need Another Drink\"</th>\n",
       "      <td>Hybrid\\n\\n\\nWhen It's Hot\\nYou need another dr...</td>\n",
       "    </tr>\n",
       "    <tr>\n",
       "      <th>\"Detroit State Of Mind Pt. 2\"</th>\n",
       "      <td>\\nRoaches crawlin' up the wall, piss-stained b...</td>\n",
       "    </tr>\n",
       "    <tr>\n",
       "      <th>\"Pac Blood\"</th>\n",
       "      <td>\\nThe Shakespeare of 16's, dipping my ink pen\\...</td>\n",
       "    </tr>\n",
       "    <tr>\n",
       "      <th>\"Kush Coma\"</th>\n",
       "      <td>Close my eyes, feel like I'm going down\\nIn an...</td>\n",
       "    </tr>\n",
       "    <tr>\n",
       "      <th>\"Best Life\"</th>\n",
       "      <td>La la la la la, la la la\\nLa la la la la, la l...</td>\n",
       "    </tr>\n",
       "    <tr>\n",
       "      <th>...</th>\n",
       "      <td>...</td>\n",
       "    </tr>\n",
       "    <tr>\n",
       "      <th>\"Die Like A Rockstar\"</th>\n",
       "      <td>\\nBrown bless the mic like gesundheit\\nBud bou...</td>\n",
       "    </tr>\n",
       "    <tr>\n",
       "      <th>\"Bag Back\"</th>\n",
       "      <td>I lived my whole life for a green piece of pap...</td>\n",
       "    </tr>\n",
       "    <tr>\n",
       "      <th>\"Change Up\"</th>\n",
       "      <td>They thought I was gone, back from the grave\\n...</td>\n",
       "    </tr>\n",
       "    <tr>\n",
       "      <th>\"Dope Fiend Rental\"</th>\n",
       "      <td>Trail of blood on that baggie\\nI done scraped ...</td>\n",
       "    </tr>\n",
       "    <tr>\n",
       "      <th>\"Re-Up\"</th>\n",
       "      <td>Used to get domed up by crackheads,\\nAnd still...</td>\n",
       "    </tr>\n",
       "  </tbody>\n",
       "</table>\n",
       "<p>111 rows × 1 columns</p>\n",
       "</div>"
      ],
      "text/plain": [
       "                                                                          Lyrics\n",
       "\"Need Another Drink\"           Hybrid\\n\\n\\nWhen It's Hot\\nYou need another dr...\n",
       "\"Detroit State Of Mind Pt. 2\"  \\nRoaches crawlin' up the wall, piss-stained b...\n",
       "\"Pac Blood\"                    \\nThe Shakespeare of 16's, dipping my ink pen\\...\n",
       "\"Kush Coma\"                    Close my eyes, feel like I'm going down\\nIn an...\n",
       "\"Best Life\"                    La la la la la, la la la\\nLa la la la la, la l...\n",
       "...                                                                          ...\n",
       "\"Die Like A Rockstar\"          \\nBrown bless the mic like gesundheit\\nBud bou...\n",
       "\"Bag Back\"                     I lived my whole life for a green piece of pap...\n",
       "\"Change Up\"                    They thought I was gone, back from the grave\\n...\n",
       "\"Dope Fiend Rental\"            Trail of blood on that baggie\\nI done scraped ...\n",
       "\"Re-Up\"                        Used to get domed up by crackheads,\\nAnd still...\n",
       "\n",
       "[111 rows x 1 columns]"
      ]
     },
     "execution_count": 4,
     "metadata": {},
     "output_type": "execute_result"
    }
   ],
   "source": [
    "new_df = df['Lyrics'].replace(\"[\\[\\[].*?[\\]\\]]\", \"\",regex=True)\n",
    "new_df = pd.DataFrame(new_df)\n",
    "new_df"
   ]
  },
  {
   "cell_type": "code",
   "execution_count": 5,
   "metadata": {},
   "outputs": [
    {
     "data": {
      "text/plain": [
       "\"Need Another Drink\"             Hybrid   When It's Hot You need another drink ...\n",
       "\"Detroit State Of Mind Pt. 2\"     Roaches crawlin' up the wall, piss-stained be...\n",
       "\"Pac Blood\"                       The Shakespeare of 16's, dipping my ink pen M...\n",
       "\"Kush Coma\"                      Close my eyes, feel like I'm going down In an ...\n",
       "\"Best Life\"                      La la la la la, la la la La la la la la, la la...\n",
       "                                                       ...                        \n",
       "\"Die Like A Rockstar\"             Brown bless the mic like gesundheit Bud bout ...\n",
       "\"Bag Back\"                       I lived my whole life for a green piece of pap...\n",
       "\"Change Up\"                      They thought I was gone, back from the grave M...\n",
       "\"Dope Fiend Rental\"              Trail of blood on that baggie I done scraped m...\n",
       "\"Re-Up\"                          Used to get domed up by crackheads, And still ...\n",
       "Name: Lyrics, Length: 111, dtype: object"
      ]
     },
     "execution_count": 5,
     "metadata": {},
     "output_type": "execute_result"
    }
   ],
   "source": [
    "df_stripped = new_df['Lyrics'].str.replace('\\\\n',' ').str[0:]\n",
    "\n",
    "df_stripped"
   ]
  },
  {
   "cell_type": "code",
   "execution_count": 15,
   "metadata": {},
   "outputs": [
    {
     "data": {
      "text/html": [
       "<div>\n",
       "<style scoped>\n",
       "    .dataframe tbody tr th:only-of-type {\n",
       "        vertical-align: middle;\n",
       "    }\n",
       "\n",
       "    .dataframe tbody tr th {\n",
       "        vertical-align: top;\n",
       "    }\n",
       "\n",
       "    .dataframe thead th {\n",
       "        text-align: right;\n",
       "    }\n",
       "</style>\n",
       "<table border=\"1\" class=\"dataframe\">\n",
       "  <thead>\n",
       "    <tr style=\"text-align: right;\">\n",
       "      <th></th>\n",
       "      <th>Lyrics</th>\n",
       "    </tr>\n",
       "    <tr>\n",
       "      <th>Songs</th>\n",
       "      <th></th>\n",
       "    </tr>\n",
       "  </thead>\n",
       "  <tbody>\n",
       "    <tr>\n",
       "      <th>Need Another Drink</th>\n",
       "      <td>Hybrid   When It's Hot You need another drink ...</td>\n",
       "    </tr>\n",
       "    <tr>\n",
       "      <th>Detroit State Of Mind Pt. 2</th>\n",
       "      <td>Roaches crawlin' up the wall, piss-stained be...</td>\n",
       "    </tr>\n",
       "    <tr>\n",
       "      <th>Pac Blood</th>\n",
       "      <td>The Shakespeare of 16's, dipping my ink pen M...</td>\n",
       "    </tr>\n",
       "    <tr>\n",
       "      <th>Kush Coma</th>\n",
       "      <td>Close my eyes, feel like I'm going down In an ...</td>\n",
       "    </tr>\n",
       "    <tr>\n",
       "      <th>Best Life</th>\n",
       "      <td>La la la la la, la la la La la la la la, la la...</td>\n",
       "    </tr>\n",
       "  </tbody>\n",
       "</table>\n",
       "</div>"
      ],
      "text/plain": [
       "                                                                        Lyrics\n",
       "Songs                                                                         \n",
       "Need Another Drink           Hybrid   When It's Hot You need another drink ...\n",
       "Detroit State Of Mind Pt. 2   Roaches crawlin' up the wall, piss-stained be...\n",
       "Pac Blood                     The Shakespeare of 16's, dipping my ink pen M...\n",
       "Kush Coma                    Close my eyes, feel like I'm going down In an ...\n",
       "Best Life                    La la la la la, la la la La la la la la, la la..."
      ]
     },
     "execution_count": 15,
     "metadata": {},
     "output_type": "execute_result"
    }
   ],
   "source": [
    "# The index has quotemarks, I create a column from the index, in the column I strip the quotemarks\n",
    "# Then I make the new column the index\n",
    "\n",
    "df_stripped = pd.DataFrame(df_stripped)\n",
    "df_stripped['Songs'] = df_stripped.index\n",
    "df_stripped['Songs'] = df_stripped['Songs'].str.replace('\\\"','')\n",
    "df_stripped.set_index('Songs',inplace=True)\n",
    "df_stripped.head()"
   ]
  },
  {
   "cell_type": "code",
   "execution_count": 16,
   "metadata": {},
   "outputs": [],
   "source": [
    "df_stripped.to_csv(r'C:\\Users\\Matyas\\Documents\\Untitled Folder\\Lyrics data science\\Lyrics Cleaned.csv')"
   ]
  },
  {
   "cell_type": "code",
   "execution_count": null,
   "metadata": {},
   "outputs": [],
   "source": []
  }
 ],
 "metadata": {
  "kernelspec": {
   "display_name": "Python 3",
   "language": "python",
   "name": "python3"
  },
  "language_info": {
   "codemirror_mode": {
    "name": "ipython",
    "version": 3
   },
   "file_extension": ".py",
   "mimetype": "text/x-python",
   "name": "python",
   "nbconvert_exporter": "python",
   "pygments_lexer": "ipython3",
   "version": "3.7.6"
  }
 },
 "nbformat": 4,
 "nbformat_minor": 4
}
