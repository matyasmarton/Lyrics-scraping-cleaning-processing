{
 "cells": [
  {
   "cell_type": "code",
   "execution_count": 1,
   "metadata": {},
   "outputs": [],
   "source": [
    "import io\n",
    "import numpy as np\n",
    "import pandas as pd\n",
    "import matplotlib.pyplot as plt\n",
    "import seaborn as sns\n",
    "sns.set(context='talk', style='ticks')\n",
    "%matplotlib inline"
   ]
  },
  {
   "cell_type": "markdown",
   "metadata": {},
   "source": [
    "# Import the JSON file and set variables"
   ]
  },
  {
   "cell_type": "code",
   "execution_count": 34,
   "metadata": {},
   "outputs": [
    {
     "data": {
      "text/plain": [
       "mollyringwald    CHECK!\\nYou're now listening to Araabmuzik\\n\\n...\n",
       "liveeveryday     Bitches in the kitchen, roaches in the cereal ...\n",
       "gremlins         I know some lil' niggas that thirst cream\\nTha...\n",
       "guitarsolo       My little nigga fourteen...\\nGot his hand on t...\n",
       "smokindrinkin    [Intro:]\\nCheck\\nA-Trak, what up?\\n\\n[Verse 1:...\n",
       "                                       ...                        \n",
       "dirtylaundry     [Hook:]\\nDip I dip you dip I dip\\nDip I dip yo...\n",
       "change           Made 30 bands in 30 minutes\\nBefore I count it...\n",
       "kushcoma         [Verse 1:]\\nI act like I'm that baby Brenda th...\n",
       "shine            Check!\\nI will eat on them pajamas\\nBite all o...\n",
       "25bucks          My homie's a magician with the tec\\nMake your ...\n",
       "Length: 111, dtype: object"
      ]
     },
     "execution_count": 34,
     "metadata": {},
     "output_type": "execute_result"
    }
   ],
   "source": [
    "df = pd.read_json ('Lyrics.json', typ='series')\n",
    "\n",
    "df"
   ]
  },
  {
   "cell_type": "code",
   "execution_count": 38,
   "metadata": {},
   "outputs": [
    {
     "data": {
      "text/html": [
       "<div>\n",
       "<style scoped>\n",
       "    .dataframe tbody tr th:only-of-type {\n",
       "        vertical-align: middle;\n",
       "    }\n",
       "\n",
       "    .dataframe tbody tr th {\n",
       "        vertical-align: top;\n",
       "    }\n",
       "\n",
       "    .dataframe thead th {\n",
       "        text-align: right;\n",
       "    }\n",
       "</style>\n",
       "<table border=\"1\" class=\"dataframe\">\n",
       "  <thead>\n",
       "    <tr style=\"text-align: right;\">\n",
       "      <th></th>\n",
       "      <th>Lyrics</th>\n",
       "    </tr>\n",
       "  </thead>\n",
       "  <tbody>\n",
       "    <tr>\n",
       "      <th>mollyringwald</th>\n",
       "      <td>CHECK!\\nYou're now listening to Araabmuzik\\n\\n...</td>\n",
       "    </tr>\n",
       "    <tr>\n",
       "      <th>liveeveryday</th>\n",
       "      <td>Bitches in the kitchen, roaches in the cereal ...</td>\n",
       "    </tr>\n",
       "    <tr>\n",
       "      <th>gremlins</th>\n",
       "      <td>I know some lil' niggas that thirst cream\\nTha...</td>\n",
       "    </tr>\n",
       "    <tr>\n",
       "      <th>guitarsolo</th>\n",
       "      <td>My little nigga fourteen...\\nGot his hand on t...</td>\n",
       "    </tr>\n",
       "    <tr>\n",
       "      <th>smokindrinkin</th>\n",
       "      <td>[Intro:]\\nCheck\\nA-Trak, what up?\\n\\n[Verse 1:...</td>\n",
       "    </tr>\n",
       "    <tr>\n",
       "      <th>...</th>\n",
       "      <td>...</td>\n",
       "    </tr>\n",
       "    <tr>\n",
       "      <th>dirtylaundry</th>\n",
       "      <td>[Hook:]\\nDip I dip you dip I dip\\nDip I dip yo...</td>\n",
       "    </tr>\n",
       "    <tr>\n",
       "      <th>change</th>\n",
       "      <td>Made 30 bands in 30 minutes\\nBefore I count it...</td>\n",
       "    </tr>\n",
       "    <tr>\n",
       "      <th>kushcoma</th>\n",
       "      <td>[Verse 1:]\\nI act like I'm that baby Brenda th...</td>\n",
       "    </tr>\n",
       "    <tr>\n",
       "      <th>shine</th>\n",
       "      <td>Check!\\nI will eat on them pajamas\\nBite all o...</td>\n",
       "    </tr>\n",
       "    <tr>\n",
       "      <th>25bucks</th>\n",
       "      <td>My homie's a magician with the tec\\nMake your ...</td>\n",
       "    </tr>\n",
       "  </tbody>\n",
       "</table>\n",
       "<p>111 rows × 1 columns</p>\n",
       "</div>"
      ],
      "text/plain": [
       "                                                          Lyrics\n",
       "mollyringwald  CHECK!\\nYou're now listening to Araabmuzik\\n\\n...\n",
       "liveeveryday   Bitches in the kitchen, roaches in the cereal ...\n",
       "gremlins       I know some lil' niggas that thirst cream\\nTha...\n",
       "guitarsolo     My little nigga fourteen...\\nGot his hand on t...\n",
       "smokindrinkin  [Intro:]\\nCheck\\nA-Trak, what up?\\n\\n[Verse 1:...\n",
       "...                                                          ...\n",
       "dirtylaundry   [Hook:]\\nDip I dip you dip I dip\\nDip I dip yo...\n",
       "change         Made 30 bands in 30 minutes\\nBefore I count it...\n",
       "kushcoma       [Verse 1:]\\nI act like I'm that baby Brenda th...\n",
       "shine          Check!\\nI will eat on them pajamas\\nBite all o...\n",
       "25bucks        My homie's a magician with the tec\\nMake your ...\n",
       "\n",
       "[111 rows x 1 columns]"
      ]
     },
     "execution_count": 38,
     "metadata": {},
     "output_type": "execute_result"
    }
   ],
   "source": [
    "df = pd.DataFrame(df, columns = ['Lyrics'])\n",
    "\n",
    "df"
   ]
  },
  {
   "cell_type": "markdown",
   "metadata": {},
   "source": [
    "# Clean the Data"
   ]
  },
  {
   "cell_type": "markdown",
   "metadata": {},
   "source": [
    "The Below regex line clear all brackets and anything that's betweem those brackets. \n",
    "After that I remove the linebreaks and export to a CSV "
   ]
  },
  {
   "cell_type": "code",
   "execution_count": 51,
   "metadata": {},
   "outputs": [
    {
     "data": {
      "text/html": [
       "<div>\n",
       "<style scoped>\n",
       "    .dataframe tbody tr th:only-of-type {\n",
       "        vertical-align: middle;\n",
       "    }\n",
       "\n",
       "    .dataframe tbody tr th {\n",
       "        vertical-align: top;\n",
       "    }\n",
       "\n",
       "    .dataframe thead th {\n",
       "        text-align: right;\n",
       "    }\n",
       "</style>\n",
       "<table border=\"1\" class=\"dataframe\">\n",
       "  <thead>\n",
       "    <tr style=\"text-align: right;\">\n",
       "      <th></th>\n",
       "      <th>Lyrics</th>\n",
       "    </tr>\n",
       "  </thead>\n",
       "  <tbody>\n",
       "    <tr>\n",
       "      <th>mollyringwald</th>\n",
       "      <td>CHECK!\\nYou're now listening to Araabmuzik\\n\\n...</td>\n",
       "    </tr>\n",
       "    <tr>\n",
       "      <th>liveeveryday</th>\n",
       "      <td>Bitches in the kitchen, roaches in the cereal ...</td>\n",
       "    </tr>\n",
       "    <tr>\n",
       "      <th>gremlins</th>\n",
       "      <td>I know some lil' niggas that thirst cream\\nTha...</td>\n",
       "    </tr>\n",
       "    <tr>\n",
       "      <th>guitarsolo</th>\n",
       "      <td>My little nigga fourteen...\\nGot his hand on t...</td>\n",
       "    </tr>\n",
       "    <tr>\n",
       "      <th>smokindrinkin</th>\n",
       "      <td>\\nCheck\\nA-Trak, what up?\\n\\n\\nDrop a deuce in...</td>\n",
       "    </tr>\n",
       "    <tr>\n",
       "      <th>...</th>\n",
       "      <td>...</td>\n",
       "    </tr>\n",
       "    <tr>\n",
       "      <th>dirtylaundry</th>\n",
       "      <td>\\nDip I dip you dip I dip\\nDip I dip you dip I...</td>\n",
       "    </tr>\n",
       "    <tr>\n",
       "      <th>change</th>\n",
       "      <td>Made 30 bands in 30 minutes\\nBefore I count it...</td>\n",
       "    </tr>\n",
       "    <tr>\n",
       "      <th>kushcoma</th>\n",
       "      <td>\\nI act like I'm that baby Brenda threw away\\n...</td>\n",
       "    </tr>\n",
       "    <tr>\n",
       "      <th>shine</th>\n",
       "      <td>Check!\\nI will eat on them pajamas\\nBite all o...</td>\n",
       "    </tr>\n",
       "    <tr>\n",
       "      <th>25bucks</th>\n",
       "      <td>My homie's a magician with the tec\\nMake your ...</td>\n",
       "    </tr>\n",
       "  </tbody>\n",
       "</table>\n",
       "<p>111 rows × 1 columns</p>\n",
       "</div>"
      ],
      "text/plain": [
       "                                                          Lyrics\n",
       "mollyringwald  CHECK!\\nYou're now listening to Araabmuzik\\n\\n...\n",
       "liveeveryday   Bitches in the kitchen, roaches in the cereal ...\n",
       "gremlins       I know some lil' niggas that thirst cream\\nTha...\n",
       "guitarsolo     My little nigga fourteen...\\nGot his hand on t...\n",
       "smokindrinkin  \\nCheck\\nA-Trak, what up?\\n\\n\\nDrop a deuce in...\n",
       "...                                                          ...\n",
       "dirtylaundry   \\nDip I dip you dip I dip\\nDip I dip you dip I...\n",
       "change         Made 30 bands in 30 minutes\\nBefore I count it...\n",
       "kushcoma       \\nI act like I'm that baby Brenda threw away\\n...\n",
       "shine          Check!\\nI will eat on them pajamas\\nBite all o...\n",
       "25bucks        My homie's a magician with the tec\\nMake your ...\n",
       "\n",
       "[111 rows x 1 columns]"
      ]
     },
     "execution_count": 51,
     "metadata": {},
     "output_type": "execute_result"
    }
   ],
   "source": [
    "new_df = df['Lyrics'].replace(\"[\\[\\[].*?[\\]\\]]\", \"\",regex=True)\n",
    "new_df = pd.DataFrame(new_df)\n",
    "new_df"
   ]
  },
  {
   "cell_type": "code",
   "execution_count": 61,
   "metadata": {},
   "outputs": [
    {
     "data": {
      "text/plain": [
       "mollyringwald    CHECK! You're now listening to Araabmuzik  Pop...\n",
       "liveeveryday     Bitches in the kitchen, roaches in the cereal ...\n",
       "gremlins         I know some lil' niggas that thirst cream That...\n",
       "guitarsolo       My little nigga fourteen... Got his hand on th...\n",
       "smokindrinkin     Check A-Trak, what up?   Drop a deuce in that...\n",
       "                                       ...                        \n",
       "dirtylaundry      Dip I dip you dip I dip Dip I dip you dip I d...\n",
       "change           Made 30 bands in 30 minutes Before I count it,...\n",
       "kushcoma          I act like I'm that baby Brenda threw away Bu...\n",
       "shine            Check! I will eat on them pajamas Bite all on ...\n",
       "25bucks          My homie's a magician with the tec Make your c...\n",
       "Name: Lyrics, Length: 111, dtype: object"
      ]
     },
     "execution_count": 61,
     "metadata": {},
     "output_type": "execute_result"
    }
   ],
   "source": [
    "df_stripped = new_df['Lyrics'].str.replace('\\\\n',' ').str[0:]\n",
    "df_stripped"
   ]
  },
  {
   "cell_type": "code",
   "execution_count": 62,
   "metadata": {},
   "outputs": [
    {
     "data": {
      "text/html": [
       "<div>\n",
       "<style scoped>\n",
       "    .dataframe tbody tr th:only-of-type {\n",
       "        vertical-align: middle;\n",
       "    }\n",
       "\n",
       "    .dataframe tbody tr th {\n",
       "        vertical-align: top;\n",
       "    }\n",
       "\n",
       "    .dataframe thead th {\n",
       "        text-align: right;\n",
       "    }\n",
       "</style>\n",
       "<table border=\"1\" class=\"dataframe\">\n",
       "  <thead>\n",
       "    <tr style=\"text-align: right;\">\n",
       "      <th></th>\n",
       "      <th>Lyrics</th>\n",
       "    </tr>\n",
       "  </thead>\n",
       "  <tbody>\n",
       "    <tr>\n",
       "      <th>mollyringwald</th>\n",
       "      <td>CHECK! You're now listening to Araabmuzik  Pop...</td>\n",
       "    </tr>\n",
       "    <tr>\n",
       "      <th>liveeveryday</th>\n",
       "      <td>Bitches in the kitchen, roaches in the cereal ...</td>\n",
       "    </tr>\n",
       "    <tr>\n",
       "      <th>gremlins</th>\n",
       "      <td>I know some lil' niggas that thirst cream That...</td>\n",
       "    </tr>\n",
       "    <tr>\n",
       "      <th>guitarsolo</th>\n",
       "      <td>My little nigga fourteen... Got his hand on th...</td>\n",
       "    </tr>\n",
       "    <tr>\n",
       "      <th>smokindrinkin</th>\n",
       "      <td>Check A-Trak, what up?   Drop a deuce in that...</td>\n",
       "    </tr>\n",
       "    <tr>\n",
       "      <th>...</th>\n",
       "      <td>...</td>\n",
       "    </tr>\n",
       "    <tr>\n",
       "      <th>dirtylaundry</th>\n",
       "      <td>Dip I dip you dip I dip Dip I dip you dip I d...</td>\n",
       "    </tr>\n",
       "    <tr>\n",
       "      <th>change</th>\n",
       "      <td>Made 30 bands in 30 minutes Before I count it,...</td>\n",
       "    </tr>\n",
       "    <tr>\n",
       "      <th>kushcoma</th>\n",
       "      <td>I act like I'm that baby Brenda threw away Bu...</td>\n",
       "    </tr>\n",
       "    <tr>\n",
       "      <th>shine</th>\n",
       "      <td>Check! I will eat on them pajamas Bite all on ...</td>\n",
       "    </tr>\n",
       "    <tr>\n",
       "      <th>25bucks</th>\n",
       "      <td>My homie's a magician with the tec Make your c...</td>\n",
       "    </tr>\n",
       "  </tbody>\n",
       "</table>\n",
       "<p>111 rows × 1 columns</p>\n",
       "</div>"
      ],
      "text/plain": [
       "                                                          Lyrics\n",
       "mollyringwald  CHECK! You're now listening to Araabmuzik  Pop...\n",
       "liveeveryday   Bitches in the kitchen, roaches in the cereal ...\n",
       "gremlins       I know some lil' niggas that thirst cream That...\n",
       "guitarsolo     My little nigga fourteen... Got his hand on th...\n",
       "smokindrinkin   Check A-Trak, what up?   Drop a deuce in that...\n",
       "...                                                          ...\n",
       "dirtylaundry    Dip I dip you dip I dip Dip I dip you dip I d...\n",
       "change         Made 30 bands in 30 minutes Before I count it,...\n",
       "kushcoma        I act like I'm that baby Brenda threw away Bu...\n",
       "shine          Check! I will eat on them pajamas Bite all on ...\n",
       "25bucks        My homie's a magician with the tec Make your c...\n",
       "\n",
       "[111 rows x 1 columns]"
      ]
     },
     "execution_count": 62,
     "metadata": {},
     "output_type": "execute_result"
    }
   ],
   "source": [
    "df_stripped = pd.DataFrame(df_stripped)\n",
    "df_stripped.head()"
   ]
  },
  {
   "cell_type": "code",
   "execution_count": 63,
   "metadata": {},
   "outputs": [],
   "source": [
    "df_stripped.to_csv(r'PATH\\File Name.csv')"
   ]
  },
  {
   "cell_type": "code",
   "execution_count": null,
   "metadata": {},
   "outputs": [],
   "source": []
  }
 ],
 "metadata": {
  "kernelspec": {
   "display_name": "Python 3",
   "language": "python",
   "name": "python3"
  },
  "language_info": {
   "codemirror_mode": {
    "name": "ipython",
    "version": 3
   },
   "file_extension": ".py",
   "mimetype": "text/x-python",
   "name": "python",
   "nbconvert_exporter": "python",
   "pygments_lexer": "ipython3",
   "version": "3.7.6"
  }
 },
 "nbformat": 4,
 "nbformat_minor": 4
}
